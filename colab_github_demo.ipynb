{
  "cells": [
    {
      "cell_type": "markdown",
      "source": [
        "### Initial operations"
      ],
      "metadata": {
        "id": "z3km4UYbF2jh"
      }
    },
    {
      "cell_type": "code",
      "execution_count": 1,
      "metadata": {
        "id": "3VQqVi-3ScBC",
        "colab": {
          "base_uri": "https://localhost:8080/"
        },
        "outputId": "69831c76-cf4d-4071-9320-6ae68c7667da"
      },
      "outputs": [
        {
          "output_type": "stream",
          "name": "stdout",
          "text": [
            "Cloning into 'my_mg_playground'...\n",
            "remote: Enumerating objects: 50, done.\u001b[K\n",
            "remote: Counting objects: 100% (50/50), done.\u001b[K\n",
            "remote: Compressing objects: 100% (46/46), done.\u001b[K\n",
            "remote: Total 50 (delta 19), reused 0 (delta 0), pack-reused 0\u001b[K\n",
            "Unpacking objects: 100% (50/50), done.\n"
          ]
        }
      ],
      "source": [
        "!git clone https://github.com/ArthurKwok/my_mg_playground"
      ]
    },
    {
      "cell_type": "code",
      "source": [
        "cd /content/my_mg_playground"
      ],
      "metadata": {
        "colab": {
          "base_uri": "https://localhost:8080/"
        },
        "id": "R-pT19e5FZyA",
        "outputId": "27923c2b-6135-41ed-9daa-0faa9660d722"
      },
      "execution_count": 2,
      "outputs": [
        {
          "output_type": "stream",
          "name": "stdout",
          "text": [
            "/content/my_mg_playground\n"
          ]
        }
      ]
    },
    {
      "cell_type": "code",
      "source": [
        "pip install pytorch_lightning muspy"
      ],
      "metadata": {
        "colab": {
          "base_uri": "https://localhost:8080/"
        },
        "id": "i7JcYqc-Fry5",
        "outputId": "3aa6e60a-7ee7-4986-f82c-3a73145c33e1"
      },
      "execution_count": 3,
      "outputs": [
        {
          "output_type": "stream",
          "name": "stdout",
          "text": [
            "Collecting pytorch_lightning\n",
            "  Downloading pytorch_lightning-1.6.0-py3-none-any.whl (582 kB)\n",
            "\u001b[?25l\r\u001b[K     |▋                               | 10 kB 17.8 MB/s eta 0:00:01\r\u001b[K     |█▏                              | 20 kB 9.2 MB/s eta 0:00:01\r\u001b[K     |█▊                              | 30 kB 7.6 MB/s eta 0:00:01\r\u001b[K     |██▎                             | 40 kB 3.5 MB/s eta 0:00:01\r\u001b[K     |██▉                             | 51 kB 3.4 MB/s eta 0:00:01\r\u001b[K     |███▍                            | 61 kB 4.0 MB/s eta 0:00:01\r\u001b[K     |████                            | 71 kB 4.5 MB/s eta 0:00:01\r\u001b[K     |████▌                           | 81 kB 4.6 MB/s eta 0:00:01\r\u001b[K     |█████                           | 92 kB 5.2 MB/s eta 0:00:01\r\u001b[K     |█████▋                          | 102 kB 4.2 MB/s eta 0:00:01\r\u001b[K     |██████▏                         | 112 kB 4.2 MB/s eta 0:00:01\r\u001b[K     |██████▊                         | 122 kB 4.2 MB/s eta 0:00:01\r\u001b[K     |███████▎                        | 133 kB 4.2 MB/s eta 0:00:01\r\u001b[K     |███████▉                        | 143 kB 4.2 MB/s eta 0:00:01\r\u001b[K     |████████▍                       | 153 kB 4.2 MB/s eta 0:00:01\r\u001b[K     |█████████                       | 163 kB 4.2 MB/s eta 0:00:01\r\u001b[K     |█████████▋                      | 174 kB 4.2 MB/s eta 0:00:01\r\u001b[K     |██████████▏                     | 184 kB 4.2 MB/s eta 0:00:01\r\u001b[K     |██████████▊                     | 194 kB 4.2 MB/s eta 0:00:01\r\u001b[K     |███████████▎                    | 204 kB 4.2 MB/s eta 0:00:01\r\u001b[K     |███████████▉                    | 215 kB 4.2 MB/s eta 0:00:01\r\u001b[K     |████████████▍                   | 225 kB 4.2 MB/s eta 0:00:01\r\u001b[K     |█████████████                   | 235 kB 4.2 MB/s eta 0:00:01\r\u001b[K     |█████████████▌                  | 245 kB 4.2 MB/s eta 0:00:01\r\u001b[K     |██████████████                  | 256 kB 4.2 MB/s eta 0:00:01\r\u001b[K     |██████████████▋                 | 266 kB 4.2 MB/s eta 0:00:01\r\u001b[K     |███████████████▏                | 276 kB 4.2 MB/s eta 0:00:01\r\u001b[K     |███████████████▊                | 286 kB 4.2 MB/s eta 0:00:01\r\u001b[K     |████████████████▎               | 296 kB 4.2 MB/s eta 0:00:01\r\u001b[K     |████████████████▉               | 307 kB 4.2 MB/s eta 0:00:01\r\u001b[K     |█████████████████▌              | 317 kB 4.2 MB/s eta 0:00:01\r\u001b[K     |██████████████████              | 327 kB 4.2 MB/s eta 0:00:01\r\u001b[K     |██████████████████▋             | 337 kB 4.2 MB/s eta 0:00:01\r\u001b[K     |███████████████████▏            | 348 kB 4.2 MB/s eta 0:00:01\r\u001b[K     |███████████████████▊            | 358 kB 4.2 MB/s eta 0:00:01\r\u001b[K     |████████████████████▎           | 368 kB 4.2 MB/s eta 0:00:01\r\u001b[K     |████████████████████▉           | 378 kB 4.2 MB/s eta 0:00:01\r\u001b[K     |█████████████████████▍          | 389 kB 4.2 MB/s eta 0:00:01\r\u001b[K     |██████████████████████          | 399 kB 4.2 MB/s eta 0:00:01\r\u001b[K     |██████████████████████▌         | 409 kB 4.2 MB/s eta 0:00:01\r\u001b[K     |███████████████████████         | 419 kB 4.2 MB/s eta 0:00:01\r\u001b[K     |███████████████████████▋        | 430 kB 4.2 MB/s eta 0:00:01\r\u001b[K     |████████████████████████▏       | 440 kB 4.2 MB/s eta 0:00:01\r\u001b[K     |████████████████████████▊       | 450 kB 4.2 MB/s eta 0:00:01\r\u001b[K     |█████████████████████████▎      | 460 kB 4.2 MB/s eta 0:00:01\r\u001b[K     |██████████████████████████      | 471 kB 4.2 MB/s eta 0:00:01\r\u001b[K     |██████████████████████████▌     | 481 kB 4.2 MB/s eta 0:00:01\r\u001b[K     |███████████████████████████     | 491 kB 4.2 MB/s eta 0:00:01\r\u001b[K     |███████████████████████████▋    | 501 kB 4.2 MB/s eta 0:00:01\r\u001b[K     |████████████████████████████▏   | 512 kB 4.2 MB/s eta 0:00:01\r\u001b[K     |████████████████████████████▊   | 522 kB 4.2 MB/s eta 0:00:01\r\u001b[K     |█████████████████████████████▎  | 532 kB 4.2 MB/s eta 0:00:01\r\u001b[K     |█████████████████████████████▉  | 542 kB 4.2 MB/s eta 0:00:01\r\u001b[K     |██████████████████████████████▍ | 552 kB 4.2 MB/s eta 0:00:01\r\u001b[K     |███████████████████████████████ | 563 kB 4.2 MB/s eta 0:00:01\r\u001b[K     |███████████████████████████████▌| 573 kB 4.2 MB/s eta 0:00:01\r\u001b[K     |████████████████████████████████| 582 kB 4.2 MB/s \n",
            "\u001b[?25hCollecting muspy\n",
            "  Downloading muspy-0.4.0-py3-none-any.whl (107 kB)\n",
            "\u001b[K     |████████████████████████████████| 107 kB 62.1 MB/s \n",
            "\u001b[?25hRequirement already satisfied: numpy>=1.17.2 in /usr/local/lib/python3.7/dist-packages (from pytorch_lightning) (1.21.5)\n",
            "Requirement already satisfied: tqdm>=4.41.0 in /usr/local/lib/python3.7/dist-packages (from pytorch_lightning) (4.63.0)\n",
            "Collecting torchmetrics>=0.4.1\n",
            "  Downloading torchmetrics-0.7.3-py3-none-any.whl (398 kB)\n",
            "\u001b[K     |████████████████████████████████| 398 kB 53.9 MB/s \n",
            "\u001b[?25hRequirement already satisfied: tensorboard>=2.2.0 in /usr/local/lib/python3.7/dist-packages (from pytorch_lightning) (2.8.0)\n",
            "Collecting typing-extensions>=4.0.0\n",
            "  Downloading typing_extensions-4.1.1-py3-none-any.whl (26 kB)\n",
            "Collecting PyYAML>=5.4\n",
            "  Downloading PyYAML-6.0-cp37-cp37m-manylinux_2_5_x86_64.manylinux1_x86_64.manylinux_2_12_x86_64.manylinux2010_x86_64.whl (596 kB)\n",
            "\u001b[K     |████████████████████████████████| 596 kB 48.0 MB/s \n",
            "\u001b[?25hCollecting fsspec[http]!=2021.06.0,>=2021.05.0\n",
            "  Downloading fsspec-2022.3.0-py3-none-any.whl (136 kB)\n",
            "\u001b[K     |████████████████████████████████| 136 kB 63.9 MB/s \n",
            "\u001b[?25hCollecting pyDeprecate<0.4.0,>=0.3.1\n",
            "  Downloading pyDeprecate-0.3.2-py3-none-any.whl (10 kB)\n",
            "Requirement already satisfied: packaging>=17.0 in /usr/local/lib/python3.7/dist-packages (from pytorch_lightning) (21.3)\n",
            "Requirement already satisfied: torch>=1.8.* in /usr/local/lib/python3.7/dist-packages (from pytorch_lightning) (1.10.0+cu111)\n",
            "Requirement already satisfied: requests in /usr/local/lib/python3.7/dist-packages (from fsspec[http]!=2021.06.0,>=2021.05.0->pytorch_lightning) (2.23.0)\n",
            "Collecting aiohttp\n",
            "  Downloading aiohttp-3.8.1-cp37-cp37m-manylinux_2_5_x86_64.manylinux1_x86_64.manylinux_2_12_x86_64.manylinux2010_x86_64.whl (1.1 MB)\n",
            "\u001b[K     |████████████████████████████████| 1.1 MB 24.3 MB/s \n",
            "\u001b[?25hRequirement already satisfied: pyparsing!=3.0.5,>=2.0.2 in /usr/local/lib/python3.7/dist-packages (from packaging>=17.0->pytorch_lightning) (3.0.7)\n",
            "Requirement already satisfied: google-auth-oauthlib<0.5,>=0.4.1 in /usr/local/lib/python3.7/dist-packages (from tensorboard>=2.2.0->pytorch_lightning) (0.4.6)\n",
            "Requirement already satisfied: wheel>=0.26 in /usr/local/lib/python3.7/dist-packages (from tensorboard>=2.2.0->pytorch_lightning) (0.37.1)\n",
            "Requirement already satisfied: tensorboard-plugin-wit>=1.6.0 in /usr/local/lib/python3.7/dist-packages (from tensorboard>=2.2.0->pytorch_lightning) (1.8.1)\n",
            "Requirement already satisfied: tensorboard-data-server<0.7.0,>=0.6.0 in /usr/local/lib/python3.7/dist-packages (from tensorboard>=2.2.0->pytorch_lightning) (0.6.1)\n",
            "Requirement already satisfied: markdown>=2.6.8 in /usr/local/lib/python3.7/dist-packages (from tensorboard>=2.2.0->pytorch_lightning) (3.3.6)\n",
            "Requirement already satisfied: werkzeug>=0.11.15 in /usr/local/lib/python3.7/dist-packages (from tensorboard>=2.2.0->pytorch_lightning) (1.0.1)\n",
            "Requirement already satisfied: setuptools>=41.0.0 in /usr/local/lib/python3.7/dist-packages (from tensorboard>=2.2.0->pytorch_lightning) (57.4.0)\n",
            "Requirement already satisfied: absl-py>=0.4 in /usr/local/lib/python3.7/dist-packages (from tensorboard>=2.2.0->pytorch_lightning) (1.0.0)\n",
            "Requirement already satisfied: protobuf>=3.6.0 in /usr/local/lib/python3.7/dist-packages (from tensorboard>=2.2.0->pytorch_lightning) (3.17.3)\n",
            "Requirement already satisfied: grpcio>=1.24.3 in /usr/local/lib/python3.7/dist-packages (from tensorboard>=2.2.0->pytorch_lightning) (1.44.0)\n",
            "Requirement already satisfied: google-auth<3,>=1.6.3 in /usr/local/lib/python3.7/dist-packages (from tensorboard>=2.2.0->pytorch_lightning) (1.35.0)\n",
            "Requirement already satisfied: six in /usr/local/lib/python3.7/dist-packages (from absl-py>=0.4->tensorboard>=2.2.0->pytorch_lightning) (1.15.0)\n",
            "Requirement already satisfied: pyasn1-modules>=0.2.1 in /usr/local/lib/python3.7/dist-packages (from google-auth<3,>=1.6.3->tensorboard>=2.2.0->pytorch_lightning) (0.2.8)\n",
            "Requirement already satisfied: rsa<5,>=3.1.4 in /usr/local/lib/python3.7/dist-packages (from google-auth<3,>=1.6.3->tensorboard>=2.2.0->pytorch_lightning) (4.8)\n",
            "Requirement already satisfied: cachetools<5.0,>=2.0.0 in /usr/local/lib/python3.7/dist-packages (from google-auth<3,>=1.6.3->tensorboard>=2.2.0->pytorch_lightning) (4.2.4)\n",
            "Requirement already satisfied: requests-oauthlib>=0.7.0 in /usr/local/lib/python3.7/dist-packages (from google-auth-oauthlib<0.5,>=0.4.1->tensorboard>=2.2.0->pytorch_lightning) (1.3.1)\n",
            "Requirement already satisfied: importlib-metadata>=4.4 in /usr/local/lib/python3.7/dist-packages (from markdown>=2.6.8->tensorboard>=2.2.0->pytorch_lightning) (4.11.3)\n",
            "Requirement already satisfied: zipp>=0.5 in /usr/local/lib/python3.7/dist-packages (from importlib-metadata>=4.4->markdown>=2.6.8->tensorboard>=2.2.0->pytorch_lightning) (3.7.0)\n",
            "Requirement already satisfied: pyasn1<0.5.0,>=0.4.6 in /usr/local/lib/python3.7/dist-packages (from pyasn1-modules>=0.2.1->google-auth<3,>=1.6.3->tensorboard>=2.2.0->pytorch_lightning) (0.4.8)\n",
            "Requirement already satisfied: idna<3,>=2.5 in /usr/local/lib/python3.7/dist-packages (from requests->fsspec[http]!=2021.06.0,>=2021.05.0->pytorch_lightning) (2.10)\n",
            "Requirement already satisfied: urllib3!=1.25.0,!=1.25.1,<1.26,>=1.21.1 in /usr/local/lib/python3.7/dist-packages (from requests->fsspec[http]!=2021.06.0,>=2021.05.0->pytorch_lightning) (1.24.3)\n",
            "Requirement already satisfied: chardet<4,>=3.0.2 in /usr/local/lib/python3.7/dist-packages (from requests->fsspec[http]!=2021.06.0,>=2021.05.0->pytorch_lightning) (3.0.4)\n",
            "Requirement already satisfied: certifi>=2017.4.17 in /usr/local/lib/python3.7/dist-packages (from requests->fsspec[http]!=2021.06.0,>=2021.05.0->pytorch_lightning) (2021.10.8)\n",
            "Requirement already satisfied: oauthlib>=3.0.0 in /usr/local/lib/python3.7/dist-packages (from requests-oauthlib>=0.7.0->google-auth-oauthlib<0.5,>=0.4.1->tensorboard>=2.2.0->pytorch_lightning) (3.2.0)\n",
            "Collecting pypianoroll>=1.0\n",
            "  Downloading pypianoroll-1.0.4-py3-none-any.whl (26 kB)\n",
            "Collecting bidict>=0.21\n",
            "  Downloading bidict-0.22.0-py3-none-any.whl (36 kB)\n",
            "Requirement already satisfied: matplotlib>=1.5 in /usr/local/lib/python3.7/dist-packages (from muspy) (3.2.2)\n",
            "Requirement already satisfied: music21>=5.0 in /usr/local/lib/python3.7/dist-packages (from muspy) (5.5.0)\n",
            "Collecting pretty-midi>=0.2\n",
            "  Downloading pretty_midi-0.2.9.tar.gz (5.6 MB)\n",
            "\u001b[K     |████████████████████████████████| 5.6 MB 21.2 MB/s \n",
            "\u001b[?25hRequirement already satisfied: joblib>=0.15 in /usr/local/lib/python3.7/dist-packages (from muspy) (1.1.0)\n",
            "Collecting mido>=1.0\n",
            "  Downloading mido-1.2.10-py2.py3-none-any.whl (51 kB)\n",
            "\u001b[K     |████████████████████████████████| 51 kB 6.9 MB/s \n",
            "\u001b[?25hRequirement already satisfied: python-dateutil>=2.1 in /usr/local/lib/python3.7/dist-packages (from matplotlib>=1.5->muspy) (2.8.2)\n",
            "Requirement already satisfied: kiwisolver>=1.0.1 in /usr/local/lib/python3.7/dist-packages (from matplotlib>=1.5->muspy) (1.4.0)\n",
            "Requirement already satisfied: cycler>=0.10 in /usr/local/lib/python3.7/dist-packages (from matplotlib>=1.5->muspy) (0.11.0)\n",
            "Requirement already satisfied: scipy>=1.0.0 in /usr/local/lib/python3.7/dist-packages (from pypianoroll>=1.0->muspy) (1.4.1)\n",
            "Collecting frozenlist>=1.1.1\n",
            "  Downloading frozenlist-1.3.0-cp37-cp37m-manylinux_2_5_x86_64.manylinux1_x86_64.manylinux_2_17_x86_64.manylinux2014_x86_64.whl (144 kB)\n",
            "\u001b[K     |████████████████████████████████| 144 kB 60.1 MB/s \n",
            "\u001b[?25hCollecting aiosignal>=1.1.2\n",
            "  Downloading aiosignal-1.2.0-py3-none-any.whl (8.2 kB)\n",
            "Requirement already satisfied: charset-normalizer<3.0,>=2.0 in /usr/local/lib/python3.7/dist-packages (from aiohttp->fsspec[http]!=2021.06.0,>=2021.05.0->pytorch_lightning) (2.0.12)\n",
            "Collecting asynctest==0.13.0\n",
            "  Downloading asynctest-0.13.0-py3-none-any.whl (26 kB)\n",
            "Collecting multidict<7.0,>=4.5\n",
            "  Downloading multidict-6.0.2-cp37-cp37m-manylinux_2_17_x86_64.manylinux2014_x86_64.whl (94 kB)\n",
            "\u001b[K     |████████████████████████████████| 94 kB 3.7 MB/s \n",
            "\u001b[?25hCollecting async-timeout<5.0,>=4.0.0a3\n",
            "  Downloading async_timeout-4.0.2-py3-none-any.whl (5.8 kB)\n",
            "Requirement already satisfied: attrs>=17.3.0 in /usr/local/lib/python3.7/dist-packages (from aiohttp->fsspec[http]!=2021.06.0,>=2021.05.0->pytorch_lightning) (21.4.0)\n",
            "Collecting yarl<2.0,>=1.0\n",
            "  Downloading yarl-1.7.2-cp37-cp37m-manylinux_2_5_x86_64.manylinux1_x86_64.manylinux_2_12_x86_64.manylinux2010_x86_64.whl (271 kB)\n",
            "\u001b[K     |████████████████████████████████| 271 kB 51.2 MB/s \n",
            "\u001b[?25hBuilding wheels for collected packages: pretty-midi\n",
            "  Building wheel for pretty-midi (setup.py) ... \u001b[?25l\u001b[?25hdone\n",
            "  Created wheel for pretty-midi: filename=pretty_midi-0.2.9-py3-none-any.whl size=5591955 sha256=912b63b953970d8972aeade118dcc9aeecc3fd1cdf657efb275bb582473b1dd8\n",
            "  Stored in directory: /root/.cache/pip/wheels/ad/74/7c/a06473ca8dcb63efb98c1e67667ce39d52100f837835ea18fa\n",
            "Successfully built pretty-midi\n",
            "Installing collected packages: typing-extensions, multidict, frozenlist, yarl, mido, asynctest, async-timeout, aiosignal, pyDeprecate, pretty-midi, fsspec, aiohttp, torchmetrics, PyYAML, pypianoroll, bidict, pytorch-lightning, muspy\n",
            "  Attempting uninstall: typing-extensions\n",
            "    Found existing installation: typing-extensions 3.10.0.2\n",
            "    Uninstalling typing-extensions-3.10.0.2:\n",
            "      Successfully uninstalled typing-extensions-3.10.0.2\n",
            "  Attempting uninstall: PyYAML\n",
            "    Found existing installation: PyYAML 3.13\n",
            "    Uninstalling PyYAML-3.13:\n",
            "      Successfully uninstalled PyYAML-3.13\n",
            "\u001b[31mERROR: pip's dependency resolver does not currently take into account all the packages that are installed. This behaviour is the source of the following dependency conflicts.\n",
            "tensorflow 2.8.0 requires tf-estimator-nightly==2.8.0.dev2021122109, which is not installed.\n",
            "arviz 0.11.4 requires typing-extensions<4,>=3.7.4.3, but you have typing-extensions 4.1.1 which is incompatible.\u001b[0m\n",
            "Successfully installed PyYAML-6.0 aiohttp-3.8.1 aiosignal-1.2.0 async-timeout-4.0.2 asynctest-0.13.0 bidict-0.22.0 frozenlist-1.3.0 fsspec-2022.3.0 mido-1.2.10 multidict-6.0.2 muspy-0.4.0 pretty-midi-0.2.9 pyDeprecate-0.3.2 pypianoroll-1.0.4 pytorch-lightning-1.6.0 torchmetrics-0.7.3 typing-extensions-4.1.1 yarl-1.7.2\n"
          ]
        }
      ]
    },
    {
      "cell_type": "markdown",
      "source": [
        "### Code start"
      ],
      "metadata": {
        "id": "xPpDhwvVF7vv"
      }
    },
    {
      "cell_type": "code",
      "source": [
        "import torch\n",
        "import torch.nn as nn\n",
        "import pytorch_lightning as pl\n",
        "import torch.nn.functional as F\n",
        "import math\n",
        "\n",
        "from models.attention import MultiHeadAttention\n",
        "from models.transformer import TransformerEncoderLayer, TransformerDecoderLayer"
      ],
      "metadata": {
        "id": "aHX_s8jXFdBj"
      },
      "execution_count": 4,
      "outputs": []
    },
    {
      "cell_type": "code",
      "source": [
        "n_batch = 256\n",
        "n_seq = 128\n",
        "n_dim = 512\n",
        "n_head = 8\n",
        "input = torch.randn(n_batch, n_seq, n_dim)\n",
        "mha = MultiHeadAttention(n_seq, n_dim, n_head)\n",
        "output = mha(input, input, input)\n",
        "\n",
        "output.shape"
      ],
      "metadata": {
        "colab": {
          "base_uri": "https://localhost:8080/"
        },
        "id": "Zuc19l3PFoZn",
        "outputId": "1a2b58b8-2060-43ae-db82-5b0b2a5c7ecc"
      },
      "execution_count": 5,
      "outputs": [
        {
          "output_type": "execute_result",
          "data": {
            "text/plain": [
              "torch.Size([256, 128, 512])"
            ]
          },
          "metadata": {},
          "execution_count": 5
        }
      ]
    },
    {
      "cell_type": "code",
      "source": [
        "hidden = torch.randn(n_batch, n_seq, n_dim)\n",
        "d_ff = 2048\n",
        "\n",
        "enc = TransformerEncoderLayer(n_seq, n_dim, n_head, d_ff)\n",
        "dec = TransformerDecoderLayer(n_seq, n_dim, n_head, d_ff)"
      ],
      "metadata": {
        "id": "ato90gu3o2MB"
      },
      "execution_count": 8,
      "outputs": []
    },
    {
      "cell_type": "code",
      "source": [
        "h1 = enc(input)\n",
        "\n",
        "h2 = dec(input, hidden)"
      ],
      "metadata": {
        "id": "Nd77khlRpQzp"
      },
      "execution_count": 9,
      "outputs": []
    },
    {
      "cell_type": "code",
      "source": [
        "print(h1.shape)\n",
        "print(h2.shape)"
      ],
      "metadata": {
        "id": "JAkHiNHMpl-t",
        "outputId": "6c766922-16ba-463b-f9a5-74c54659fd32",
        "colab": {
          "base_uri": "https://localhost:8080/"
        }
      },
      "execution_count": 11,
      "outputs": [
        {
          "output_type": "stream",
          "name": "stdout",
          "text": [
            "torch.Size([256, 128, 512])\n",
            "torch.Size([256, 128, 512])\n"
          ]
        }
      ]
    },
    {
      "cell_type": "code",
      "source": [
        "class PositionalEncoding(nn.Module):\n",
        "    def __init__(self, n_seq, n_dim):\n",
        "        super().__init__()\n",
        "\n",
        "        self.pe = torch.zeros(n_seq, n_dim)\n",
        "        pos = torch.arange(0, n_seq)\n",
        "        # i = torch.arange(0, n_dim).unsqueeze(0) # row vector\n",
        "\n",
        "        for i in range(n_dim):\n",
        "            if i % 2 == 0:\n",
        "                self.pe[:, i] = torch.sin(pos / (10000**(2*i/n_dim)))\n",
        "            else:\n",
        "                self.pe[:, i] = torch.cos(pos / (10000**(2*i/n_dim)))\n",
        "\n",
        "\n",
        "    def forward(self, x):\n",
        "        # x: (..., n_seq, n_dim)\n",
        "        return self.pe + x\n"
      ],
      "metadata": {
        "id": "YxcEnPLQziwk"
      },
      "execution_count": null,
      "outputs": []
    },
    {
      "cell_type": "code",
      "source": [
        "n_seq = 4\n",
        "n_dim = 256\n",
        "pos = torch.arange(0, n_seq).unsqueeze(1)\n",
        "i = torch.arange(0, n_dim).unsqueeze(0)\n",
        "\n",
        "pe = torch.sin(pos / (10000**(2*i/n_dim)))\n",
        "print(pe)\n",
        "print(pe.shape)"
      ],
      "metadata": {
        "id": "SUHsYGIvz1Gl",
        "outputId": "53859aba-eea8-4b1c-c262-bcc3f3c9b8e7",
        "colab": {
          "base_uri": "https://localhost:8080/"
        }
      },
      "execution_count": 42,
      "outputs": [
        {
          "output_type": "stream",
          "name": "stdout",
          "text": [
            "tensor([[0.0000e+00, 0.0000e+00, 0.0000e+00,  ..., 0.0000e+00, 0.0000e+00,\n",
            "         0.0000e+00],\n",
            "        [8.4147e-01, 8.0196e-01, 7.6172e-01,  ..., 1.2409e-08, 1.1548e-08,\n",
            "         1.0746e-08],\n",
            "        [9.0930e-01, 9.5814e-01, 9.8705e-01,  ..., 2.4819e-08, 2.3096e-08,\n",
            "         2.1492e-08],\n",
            "        [1.4112e-01, 3.4278e-01, 5.1731e-01,  ..., 3.7228e-08, 3.4643e-08,\n",
            "         3.2238e-08]])\n",
            "torch.Size([4, 256])\n"
          ]
        }
      ]
    },
    {
      "cell_type": "code",
      "source": [
        "c = a * b\n",
        "c.shape"
      ],
      "metadata": {
        "id": "VaFxV8Bdz7Dh",
        "outputId": "c4797809-4151-4df6-fbc1-eb97b2298453",
        "colab": {
          "base_uri": "https://localhost:8080/"
        }
      },
      "execution_count": 12,
      "outputs": [
        {
          "output_type": "execute_result",
          "data": {
            "text/plain": [
              "torch.Size([512, 128, 128])"
            ]
          },
          "metadata": {},
          "execution_count": 12
        }
      ]
    }
  ],
  "metadata": {
    "colab": {
      "collapsed_sections": [],
      "name": "colab-github-demo.ipynb",
      "provenance": []
    },
    "kernelspec": {
      "display_name": "Python 3",
      "name": "python3"
    }
  },
  "nbformat": 4,
  "nbformat_minor": 0
}